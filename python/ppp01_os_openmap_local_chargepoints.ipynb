{
 "cells": [
  {
   "cell_type": "markdown",
   "metadata": {},
   "source": [
    " # Parking provision project\n",
    " \n",
    " ## OS Open Map Local - chargepoints\n",
    " \n",
    " OS Open Map Local contains the chargepoint layer (not sure until what date)\n",
    " \n",
    "- downloaded all data for UK for [here](https://www.ordnancesurvey.co.uk/business-government/products/open-map-local)\n",
    "- data is split into tiles, 100km square\n",
    "- map is updated in April and Ocotber every year"
   ]
  },
  {
   "cell_type": "markdown",
   "metadata": {},
   "source": [
    "## Libraries"
   ]
  },
  {
   "cell_type": "code",
   "execution_count": 3,
   "metadata": {},
   "outputs": [],
   "source": [
    "#from mpl_toolkits.basemap import Basemap\n",
    "import datashader as ds\n",
    "import holoviews as hv\n",
    "from datashader.utils import lnglat_to_meters\n",
    "from holoviews.operation.datashader import datashade, spread\n",
    "from holoviews.element import tiles"
   ]
  },
  {
   "cell_type": "code",
   "execution_count": 6,
   "metadata": {},
   "outputs": [],
   "source": [
    "import os\n",
    "import glob\n",
    "import numpy as np\n",
    "import pandas as pd\n",
    "import geopandas as gpd\n",
    "import mplleaflet\n",
    "import folium\n",
    "import fiona\n",
    "import pyproj\n",
    "import matplotlib.pyplot as plt\n",
    "import seaborn as sns\n",
    "\n",
    "%matplotlib inline\n",
    "pd.set_option('display.max_column', 100) #set max number of cols to display before ..."
   ]
  },
  {
   "cell_type": "code",
   "execution_count": null,
   "metadata": {},
   "outputs": [],
   "source": [
    "#check correct environment is being used: parkprov\n",
    "print(sys.executable)"
   ]
  },
  {
   "cell_type": "markdown",
   "metadata": {},
   "source": [
    "## Checkout Open Map Local (opmplc)\n",
    "\n",
    "**opmplc** is split into 100km square grids, with two letter grid codes, beginning H, N, S or T. The folder structure is for example opmplc/data/`grid code`/`grid code`_`geospatial feature`.shp. The geospatial features included are\n",
    "\n",
    "- Building\n",
    "- CarChargingPoint\n",
    "- ElectricityTransmissionLine\n",
    "- Foreshore\n",
    "- FunctionalSite\n",
    "- Glasshouse\n",
    "- ImportantBuilding\n",
    "- NamedPlace\n",
    "- RailwayStation\n",
    "- RailwayTrack\n",
    "- RailwayTunnel\n",
    "- Road\n",
    "- RoadTunnel\n",
    "- Roundabout\n",
    "- SurfaceWater_Area\n",
    "- SurfaceWater_Line\n",
    "- TidalBoundary\n",
    "- TidalWater\n",
    "- Woodland\n"
   ]
  },
  {
   "cell_type": "markdown",
   "metadata": {},
   "source": [
    "### Look at SW grid"
   ]
  },
  {
   "cell_type": "code",
   "execution_count": 7,
   "metadata": {},
   "outputs": [],
   "source": [
    "shapefile = \"../data/opmplc_essh_gb/data/SW/SW_CarChargingPoint.shp\"\n",
    "swccp = gpd.read_file(shapefile)"
   ]
  },
  {
   "cell_type": "code",
   "execution_count": 8,
   "metadata": {},
   "outputs": [
    {
     "name": "stdout",
     "output_type": "stream",
     "text": [
      "number of charging points: 30\n",
      "projection: OSGB 1936 / British National Grid\n",
      "column names: Index(['ID', 'TYPE', 'RATEDVOLT', 'CHARGEMETH', 'FEATCODE', 'geometry'], dtype='object')\n"
     ]
    }
   ],
   "source": [
    "print(\"number of charging points:\", swccp.shape[0])\n",
    "print(\"projection:\", swccp.crs.name)\n",
    "print(\"column names:\", swccp.columns)"
   ]
  },
  {
   "cell_type": "code",
   "execution_count": 9,
   "metadata": {},
   "outputs": [
    {
     "data": {
      "text/html": [
       "<div>\n",
       "<style scoped>\n",
       "    .dataframe tbody tr th:only-of-type {\n",
       "        vertical-align: middle;\n",
       "    }\n",
       "\n",
       "    .dataframe tbody tr th {\n",
       "        vertical-align: top;\n",
       "    }\n",
       "\n",
       "    .dataframe thead th {\n",
       "        text-align: right;\n",
       "    }\n",
       "</style>\n",
       "<table border=\"1\" class=\"dataframe\">\n",
       "  <thead>\n",
       "    <tr style=\"text-align: right;\">\n",
       "      <th></th>\n",
       "      <th>ID</th>\n",
       "      <th>TYPE</th>\n",
       "      <th>RATEDVOLT</th>\n",
       "      <th>CHARGEMETH</th>\n",
       "      <th>FEATCODE</th>\n",
       "      <th>geometry</th>\n",
       "    </tr>\n",
       "  </thead>\n",
       "  <tbody>\n",
       "    <tr>\n",
       "      <th>0</th>\n",
       "      <td>BE6F761D-6B6B-49FF-A764-8CF4F91A4248</td>\n",
       "      <td>Type 2 Mennekes (IEC 62196)</td>\n",
       "      <td>400</td>\n",
       "      <td>Three Phase AC</td>\n",
       "      <td>15624</td>\n",
       "      <td>POINT Z (181718.780 61752.710 0.000)</td>\n",
       "    </tr>\n",
       "    <tr>\n",
       "      <th>1</th>\n",
       "      <td>C7DE4186-F463-461A-98D2-5C42EC0AC157</td>\n",
       "      <td>Type 2 Mennekes (IEC 62196)</td>\n",
       "      <td>400</td>\n",
       "      <td>Three Phase AC</td>\n",
       "      <td>15624</td>\n",
       "      <td>POINT Z (182203.640 61248.600 0.000)</td>\n",
       "    </tr>\n",
       "    <tr>\n",
       "      <th>2</th>\n",
       "      <td>761CB7A6-6D4C-4BE4-AC97-92425DEB02D4</td>\n",
       "      <td>Type 2 Mennekes (IEC 62196)</td>\n",
       "      <td>400</td>\n",
       "      <td>Three Phase AC</td>\n",
       "      <td>15624</td>\n",
       "      <td>POINT Z (186954.440 65085.970 0.000)</td>\n",
       "    </tr>\n",
       "    <tr>\n",
       "      <th>3</th>\n",
       "      <td>E8D87F19-F9BB-4F79-9E94-27EA70EAE9F8</td>\n",
       "      <td>Type 2 Mennekes (IEC 62196)</td>\n",
       "      <td>400</td>\n",
       "      <td>Three Phase AC</td>\n",
       "      <td>15624</td>\n",
       "      <td>POINT Z (186954.440 65085.970 0.000)</td>\n",
       "    </tr>\n",
       "    <tr>\n",
       "      <th>4</th>\n",
       "      <td>47931F9C-4855-429C-B56C-9A1D8CF3395C</td>\n",
       "      <td>Type 2 Mennekes (IEC 62196)</td>\n",
       "      <td>400</td>\n",
       "      <td>Three Phase AC</td>\n",
       "      <td>15624</td>\n",
       "      <td>POINT Z (186954.440 65085.970 0.000)</td>\n",
       "    </tr>\n",
       "  </tbody>\n",
       "</table>\n",
       "</div>"
      ],
      "text/plain": [
       "                                     ID                         TYPE  \\\n",
       "0  BE6F761D-6B6B-49FF-A764-8CF4F91A4248  Type 2 Mennekes (IEC 62196)   \n",
       "1  C7DE4186-F463-461A-98D2-5C42EC0AC157  Type 2 Mennekes (IEC 62196)   \n",
       "2  761CB7A6-6D4C-4BE4-AC97-92425DEB02D4  Type 2 Mennekes (IEC 62196)   \n",
       "3  E8D87F19-F9BB-4F79-9E94-27EA70EAE9F8  Type 2 Mennekes (IEC 62196)   \n",
       "4  47931F9C-4855-429C-B56C-9A1D8CF3395C  Type 2 Mennekes (IEC 62196)   \n",
       "\n",
       "  RATEDVOLT      CHARGEMETH  FEATCODE                              geometry  \n",
       "0       400  Three Phase AC     15624  POINT Z (181718.780 61752.710 0.000)  \n",
       "1       400  Three Phase AC     15624  POINT Z (182203.640 61248.600 0.000)  \n",
       "2       400  Three Phase AC     15624  POINT Z (186954.440 65085.970 0.000)  \n",
       "3       400  Three Phase AC     15624  POINT Z (186954.440 65085.970 0.000)  \n",
       "4       400  Three Phase AC     15624  POINT Z (186954.440 65085.970 0.000)  "
      ]
     },
     "execution_count": 9,
     "metadata": {},
     "output_type": "execute_result"
    }
   ],
   "source": [
    "swccp.head()"
   ]
  },
  {
   "cell_type": "markdown",
   "metadata": {},
   "source": [
    "## Read and append all CarChargingPoint shapefiles"
   ]
  },
  {
   "cell_type": "code",
   "execution_count": 10,
   "metadata": {},
   "outputs": [],
   "source": [
    "#https://mkyong.com/python/python-how-to-list-all-files-in-a-directory/\n",
    "path = \"../data/opmplc_essh_gb/data/**\"\n",
    "opmplc_files = glob.glob(path, recursive=True) #returns all files and folders below path\n",
    "grid_folders = glob.glob(path, recursive=False) #returns only files/folders in this directory\n",
    "\n",
    "ccp_shp_paths = [i for i in opmplc_files if \"_CarChargingPoint.shp\" in i] #extract just the CP shapefiles\n",
    "all_grids_list = [element[-2:] for element in grid_folders] #extract list of all BNG grids (included here)"
   ]
  },
  {
   "cell_type": "code",
   "execution_count": 11,
   "metadata": {},
   "outputs": [
    {
     "name": "stdout",
     "output_type": "stream",
     "text": [
      "Number of grids with chargepoints:  46\n",
      "Total number of grids: 55\n"
     ]
    }
   ],
   "source": [
    "print(\"Number of grids with chargepoints: \", len(ccp_shp_paths))\n",
    "print(\"Total number of grids:\", len(all_grids_list))"
   ]
  },
  {
   "cell_type": "code",
   "execution_count": 12,
   "metadata": {},
   "outputs": [],
   "source": [
    "gdfs = []\n",
    "for shapefile in ccp_shp_paths:\n",
    "    gdfs.append(gpd.read_file(shapefile))\n",
    "    \n",
    "    \n",
    "#read in -> add grid code col ->append"
   ]
  },
  {
   "cell_type": "code",
   "execution_count": 13,
   "metadata": {},
   "outputs": [],
   "source": [
    "# Concatenate all data into one DataFrame\n",
    "ccp = pd.concat(gdfs, ignore_index=True)"
   ]
  },
  {
   "cell_type": "code",
   "execution_count": 14,
   "metadata": {},
   "outputs": [
    {
     "data": {
      "text/plain": [
       "<Projected CRS: EPSG:27700>\n",
       "Name: OSGB 1936 / British National Grid\n",
       "Axis Info [cartesian]:\n",
       "- E[east]: Easting (metre)\n",
       "- N[north]: Northing (metre)\n",
       "Area of Use:\n",
       "- name: UK - Britain and UKCS 49°46'N to 61°01'N, 7°33'W to 3°33'E\n",
       "- bounds: (-9.2, 49.75, 2.88, 61.14)\n",
       "Coordinate Operation:\n",
       "- name: British National Grid\n",
       "- method: Transverse Mercator\n",
       "Datum: OSGB 1936\n",
       "- Ellipsoid: Airy 1830\n",
       "- Prime Meridian: Greenwich"
      ]
     },
     "execution_count": 14,
     "metadata": {},
     "output_type": "execute_result"
    }
   ],
   "source": [
    "ccp.crs\n"
   ]
  },
  {
   "cell_type": "code",
   "execution_count": 15,
   "metadata": {},
   "outputs": [
    {
     "data": {
      "text/plain": [
       "<matplotlib.axes._subplots.AxesSubplot at 0x7fe0784e05b0>"
      ]
     },
     "execution_count": 15,
     "metadata": {},
     "output_type": "execute_result"
    },
    {
     "data": {
      "image/png": "[encoded data removed]",
      "text/plain": [
       "<Figure size 720x720 with 1 Axes>"
      ]
     },
     "metadata": {
      "needs_background": "light"
     },
     "output_type": "display_data"
    }
   ],
   "source": [
    "ccp.plot(figsize=(10,10))"
   ]
  },
  {
   "cell_type": "markdown",
   "metadata": {},
   "source": [
    "## Get basemap\n",
    "\n",
    "http://leaflet-extras.github.io/leaflet-providers/preview/index.html\n",
    "\n",
    "https://automating-gis-processes.github.io/site/notebooks/L5/interactive-map-folium.html"
   ]
  },
  {
   "cell_type": "code",
   "execution_count": 16,
   "metadata": {},
   "outputs": [],
   "source": [
    "ccp.crs\n",
    "ccp_wgs84 = ccp.to_crs(\"EPSG:4326\") #wgs84\n",
    "ccp_p = ccp.to_crs(\"EPSG:3857\") #pseudomercator"
   ]
  },
  {
   "cell_type": "code",
   "execution_count": 17,
   "metadata": {},
   "outputs": [],
   "source": [
    "ccp_wgs84.plot()\n",
    "mplleaflet.show(path = \"../map/ccp.html\") #mplleaflet uses WGS84/EPSG:4326 crs"
   ]
  },
  {
   "cell_type": "markdown",
   "metadata": {},
   "source": [
    "## Datashader"
   ]
  },
  {
   "cell_type": "markdown",
   "metadata": {},
   "source": [
    "## Next steps\n",
    "- add grid code col when read in data, may need to identify\n",
    "- try datashader/holoviews/geoviews, may ned to convert geometry to lon lat columns, in metres\n",
    "- check is NI included in OS maps? doesn't look like any CPs are there"
   ]
  },
  {
   "cell_type": "code",
   "execution_count": null,
   "metadata": {},
   "outputs": [],
   "source": []
  },
  {
   "cell_type": "code",
   "execution_count": null,
   "metadata": {},
   "outputs": [],
   "source": []
  },
  {
   "cell_type": "code",
   "execution_count": null,
   "metadata": {},
   "outputs": [],
   "source": []
  },
  {
   "cell_type": "markdown",
   "metadata": {},
   "source": [
    "## Archive"
   ]
  },
  {
   "cell_type": "code",
   "execution_count": 28,
   "metadata": {},
   "outputs": [
    {
     "name": "stdout",
     "output_type": "stream",
     "text": [
      "The original list is : ['GeeksforGeeks', 'Geeky', 'Computers', 'Algorithms']\n",
      "All strings with given substring are : ['GeeksforGeeks', 'Geeky']\n"
     ]
    }
   ],
   "source": [
    "\n",
    "# initializing list  \n",
    "test_list = ['GeeksforGeeks', 'Geeky', 'Computers', 'Algorithms'] \n",
    "  \n",
    "# printing original list  \n",
    "print (\"The original list is : \" + str(test_list)) \n",
    "  \n",
    "# initializing substring \n",
    "subs = 'Geek'\n",
    "  \n",
    "# using list comprehension  \n",
    "# to get string with substring  \n",
    "res = [i for i in test_list if subs in i] \n",
    "  \n",
    "# printing result  \n",
    "print (\"All strings with given substring are : \" + str(res)) \n"
   ]
  },
  {
   "cell_type": "code",
   "execution_count": 29,
   "metadata": {},
   "outputs": [
    {
     "data": {
      "text/plain": [
       "['GeeksforGeeks', 'Geeky']"
      ]
     },
     "execution_count": 29,
     "metadata": {},
     "output_type": "execute_result"
    }
   ],
   "source": [
    "res"
   ]
  },
  {
   "cell_type": "code",
   "execution_count": null,
   "metadata": {},
   "outputs": [],
   "source": []
  }
 ],
 "metadata": {
  "kernelspec": {
   "display_name": "Python 3",
   "language": "python",
   "name": "python3"
  },
  "language_info": {
   "codemirror_mode": {
    "name": "ipython",
    "version": 3
   },
   "file_extension": ".py",
   "mimetype": "text/x-python",
   "name": "python",
   "nbconvert_exporter": "python",
   "pygments_lexer": "ipython3",
   "version": "3.8.3"
  }
 },
 "nbformat": 4,
 "nbformat_minor": 2
}
