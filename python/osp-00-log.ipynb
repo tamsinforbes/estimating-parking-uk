{
 "cells": [
  {
   "cell_type": "markdown",
   "metadata": {},
   "source": [
    "# Log of work for OSP (on-street parking)"
   ]
  },
  {
   "cell_type": "markdown",
   "metadata": {},
   "source": [
    "## Plan\n",
    "\n",
    "Aim\n",
    "- investigate proportion of on-street parking in residential test area to inform Electric Vehicle Charge Point (EVCP) infrastructure planning.\n",
    "- work towards setting up GCP environment to run code for whole of UK, but realistically do not expect to achieve this in the time, due to digital team low priority.\n",
    "\n",
    "\n",
    "Methodology\n",
    "1. Find a baseline for on-street parking using OS maps topographic area layer and possibly highways layer. Essentially calculate the length of roads in proximity to residential buildings and divide by the length of an average car parking space (determine space required for parallel parking). Double this if road is wide enough to accommodate parking on both sides. This baseline will be an estimate of the maximum number of cars that could be physically parked in the space, ignoring illegal parking areas such as road intersections and road furniture proximity, where these are given in the topography layer data.\n",
    "    - using 1 km grid test area, Ealing TQ1980\n",
    "    - get set of residents for this area, create polygon around it and buffer to X m, where X is the maximum distance someone is willing to park from their home.\n",
    "    - trim to this polygon, filter for just roads, ignore intersections, exclude major roads (you can't park on dual carriage ways, motorways etc)\n",
    "    - Some humps are marked in the topo layer, check what these are tagged as, think parking is allowed on humps.\n",
    "    - road furniture - can't park near this perhaps? Sometimes it narrows the road so you can't park\n",
    "    - probably will end up with df of road sections that are allowed, get lengths, widths, column for what length/proportion of length of road section can be parked on (adding in humps that are separate sections will be a total pain)\n",
    "    - get histogram of road section lengths, hump lengths.\n",
    "    - there are other road ids, might be able to use a less detailed one.\n",
    "    \n",
    "\n",
    "2. Improve baseline using machine vision techniques to identify permanent road markings that indicate no parking in these areas. Specifically use Aerial Photography GB, which may be out of date\n",
    "    - use the topo layer of the roads to trim the image and run edge detection on the roads? \n",
    "    - may need to trim the image further to only include a parking width from the pavement, not allowed to park on pavement in London, at all. \n",
    "    - bus stops (bus stop is written on the road and surrounded in white dashed lines)\n",
    "    - what about bus lanes? red areas\n",
    "    - humps? (white arrows, not sure if it is legal to park on humps or not - I think it's allowed)\n",
    "    - zebra crossings: this has been done; https://www.ncbi.nlm.nih.gov/pmc/articles/PMC4725710/\n",
    "    - collect set of example images of bus stops? or Zebra crossings? Must be point data somewhere simply listing where all the bus stops are, in fact I think REDACTED has it, and it's available in a API even...\n",
    "    - so focus on one aspect, eg zebra crossings, but how many of these are there likely to be in residential areas? Schools will have some kind of crossing nearby usually.\n",
    "    - keep clear areas?\n",
    "    - Dropped curbs: identify dropped curbs, by looking at property boundary adjacent to pavement and looking for obstacles that might be wall or fence. Obstacle recognition? would I need a set of known obstacles?\n",
    "        - get a strip of image with pavement one side and property front garden the other\n",
    "        - segment image into contiguous areas; group together pixels with similar attributes. Could work pretty well given resolution and homogeneity of walls, drives, hedges, fences etc.\n",
    "        - on the boundary line check for change in segment, distance between segments, is this large enough for a car width to fit through. \n",
    "        - assume there must be some break to allow pedestrian entry!\n",
    "        - assume car width sized lack of obstacle implies there is a dropped curb - not always the case\n",
    "        - Will have all the same issues as before; trees, shadows etc.\n",
    "        - shadow might actually be helpful in identifying an obstacle, eg if a garden wall causes shadow.\n",
    "\n",
    "3. Investigate use of Google Earth Engine, to improve image data quality. Using up to date and multiple time stamps of imagery could simply count cars parked - assume they are legally parked. \n",
    "    - REDACTED to share GEE experiments\n",
    "\n",
    "Milestones\n",
    "- baseline for test area\n",
    "- subtract bus stops; point data and assume 5m either side parallel to road or something. Maybe could just subtract 10m for every busstop in the area\n",
    "- subtract zebra crossings\n",
    "- subtract dropped curbs\n"
   ]
  },
  {
   "cell_type": "markdown",
   "metadata": {},
   "source": [
    "### w/c 19-07-2021\n",
    "\n",
    "- set up workflow, github, make plan\n",
    "- research\n",
    "    - contact Dr Hannah Budnitz re Oxford Park and Charge project\n",
    "    - research National Parking Project; possible a data gathering exercise\n",
    "- catch up with Environment team\n",
    "    - put in weekly catchups with REDACTED\n",
    "    - REDACTED milestone updates\n",
    "- prepare OS, APGB data\n",
    "- ask REDACTED re bus stop point locations; NaPTAN National Public Transport Access Nodes\n",
    "    - https://www.gov.uk/government/publications/national-public-transport-access-node-schema\n",
    "    - Got csv data for busstops, Stops.csv use ParentLocality == London, LocalityName == Ealing to filter, and then plot by BNG (CRS:27700) Easting and Northing (lat/lng available too)\n",
    "- started on the baseline work. Got stuck with rasterio misbehaving, found fix via slack help from Daniel Lewis at DEFRA and Cate Seale at UKHO. :o). Tried to sort it using parkprov environment from last year, but this environment doesn't appear to work anymore, geopandas causing problems. Spatial libraries always causing me problems!!! Must use docker or other in future."
   ]
  },
  {
   "cell_type": "markdown",
   "metadata": {},
   "source": [
    "### w/c 26-07-2021\n",
    "\n",
    "- contacted REDACTED at OS for info on identifying intersections - not straightforward\n",
    "- how to identify intersections as non-parking areas\n",
    "    - road nodes in highways layer mostly intersect with road intersection shapes, but not always as they are also present when the off-shoot link is a private road or something. Yes you can't park here either - but there is no corresponding road intersection shape - just the whole road length\n",
    "    - so use radius, based on average width of road - or actual road width?\n",
    "        - or do both, identify road sections containing a node, most of these should be intersection shapes\n",
    "        - then check area size; histogram; large areas will be the exception and use radius based on road with for these. \n",
    "        - will need to create dataset of these intersection shapes; then work out it they are T-junction or 4-way junction. And where you can park on them.\n",
    "    - Different kinds of intersection;\n",
    "        - T-junction you can park across the top of the T-bar, \n",
    "        - 4-way will need to buffer all around to exclude areas for parking. \n"
   ]
  },
  {
   "cell_type": "markdown",
   "metadata": {},
   "source": [
    "### w/c 02-08-2021\n",
    "\n",
    "- meeting with J Flynn and E Brealey Swansea students also working on parking provision fro EVCP\n",
    "- baseline work:\n",
    "    - used gpd.geometry.clip to cut shapes to extent of TQ1980 bounds; this actually changes the shape, rather than just displaying part of it. \n",
    "    - spent a lot of time trying to work out how to identify road junctions\n",
    "    - \n",
    "\n",
    "- To do\n",
    "    - subtract bus stop lengths from sections \n",
    "    - exclude road junctions; identify first\n",
    "        - chop shape within some radius of road node\n",
    "        - determine radius by average road width\n",
    "        - use this set of shapes as a mask to subtract from all roads.\n",
    "        - can maybe use \"formOfWay\" and \"routeHierarchy\" in eRoadLink to exclude some road junctions\n"
   ]
  },
  {
   "cell_type": "markdown",
   "metadata": {},
   "source": [
    "### w/c 09-08-2021\n",
    "\n",
    "- start on zebra crossing detection? \n",
    "- boundary detection?\n",
    "- other road marking indicative of no parking detection?"
   ]
  },
  {
   "cell_type": "markdown",
   "metadata": {},
   "source": [
    "### w/c 16-08-2021\n",
    "\n",
    "- prepare interim presentation (10% due by 23-08-2021)"
   ]
  },
  {
   "cell_type": "markdown",
   "metadata": {},
   "source": [
    "### w/c 23-08-2021\n",
    "\n",
    "- look into other image sources; Google Earth Engine, Landsat? \n",
    "- Look into Covid Lockdown time period, March 2020, when everyone was parked up at home - count parked cars.\n",
    "- Can I get night time images as well, when most are likely parked at home?"
   ]
  },
  {
   "cell_type": "markdown",
   "metadata": {},
   "source": [
    "### w/c 30-08-2021"
   ]
  },
  {
   "cell_type": "markdown",
   "metadata": {},
   "source": [
    "### w/c 06-09-2021"
   ]
  },
  {
   "cell_type": "markdown",
   "metadata": {},
   "source": [
    "### w/c 13-09-2021\n",
    "\n",
    "- REDACTED"
   ]
  },
  {
   "cell_type": "markdown",
   "metadata": {},
   "source": [
    "### w/c 20-09-2021\n",
    "\n",
    "- start work on final report (due by 07-10-2021)"
   ]
  },
  {
   "cell_type": "markdown",
   "metadata": {},
   "source": [
    "### w/c 27-09-2021\n",
    "\n",
    "- continue work on final report (due by 07-10-2021)\n",
    "- prepare final presentation (due by 25-10-2021)"
   ]
  }
 ],
 "metadata": {
  "kernelspec": {
   "display_name": "Python 3",
   "language": "python",
   "name": "python3"
  },
  "language_info": {
   "codemirror_mode": {
    "name": "ipython",
    "version": 3
   },
   "file_extension": ".py",
   "mimetype": "text/x-python",
   "name": "python",
   "nbconvert_exporter": "python",
   "pygments_lexer": "ipython3",
   "version": "3.7.3"
  }
 },
 "nbformat": 4,
 "nbformat_minor": 4
}
